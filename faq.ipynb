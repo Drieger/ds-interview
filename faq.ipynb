{
 "cells": [
  {
   "cell_type": "markdown",
   "id": "ea88ff9c-665a-4bc6-8861-7812b1d5c31d",
   "metadata": {},
   "source": [
    "# Interview FAQ"
   ]
  },
  {
   "cell_type": "markdown",
   "id": "846d21c4-4d03-4c91-85e2-7c572184f843",
   "metadata": {},
   "source": [
    "## Andrey Kuniyoshi\n",
    "Questions taken from the video https://www.youtube.com/watch?v=2by9QecKKCc"
   ]
  },
  {
   "cell_type": "markdown",
   "id": "08629fdd-c782-4e7e-9334-6d4811549ad2",
   "metadata": {},
   "source": [
    "**Q: Quais os passos de um projeto de Machine Learning em Ciência de Dados?**\n",
    "\n",
    "A: Se tomarmos como base o modelo CRISP-DM, podemos pensar em um projeto de Ciência de Dados em 6 etapas\n",
    "1. **Entendimento do negócio**: Entender o negócio e definir os objetivos e o plano de ação\n",
    "1. **Entendimento dos dados**: Coletar e compreener os dados através de análises descritivas e exploratória   \n",
    "5. **Preparação dos dados**: Selecionar, limpar e organizar os dados para que possam ser utilizados no modelo (_data wrangling_)\n",
    "6. **Modelagem**: Selecionar, treinar e avaliar os modelos mais adequados ao objetivo definido\n",
    "7. **Avaliação**: Realizar a avaliação do modelo em termos de negócio e o projeto como um todo\n",
    "8. **Implantação**: Disponibilizar o modelo para ser utilizado, a partir daqui entramos em um ciclo de manutenção\n",
    "\n",
    "Caso não seja seguido o modelo CRISP-DM podemos definir algumas etapas básicas de todos os projetos como\n",
    "\n",
    "`Entedimento e obtenção dos dados -> Exploração e preparação dos dados-> Contrução e avaliação dos modelos -> Implantação e manutenção`\n"
   ]
  },
  {
   "cell_type": "markdown",
   "id": "f26af17f-0ba0-4396-b64b-c5930d7343d5",
   "metadata": {},
   "source": [
    "**Q: Qual a diferença entre um modelo supervisionado e um não supervisionado?**\n",
    "\n",
    "A: Modelos supervisionados e não supervisionados são duas abordagens utilizada em IA e ML. A principal diferença entre as duas é que os modelos supervisionado utilizam dados rotulados (labels) para prever os resultados enquanto o outro não utiliza. Utilizando dados rotulados o modelo consegue medir sua acuracidade e \"aprender\" com o passar do tempo. Modelos supervisionados atuam principalmente em dois tipos de problema **classificação** e **regressão**. Modelos não supervisionados utilizam algoritmos de Machine Learning para analizar e agrupar conjuntos de dados, esse algoritmos \"descobrem\" padrões escodidos sem a intervenção humana. Modelos não supervisionados atuam principalmente em três tipos de problema **clusterização**, **associação** e **redução de dimensionalidade**.\n",
    "\n",
    "Modelos supervisionado aprendem iterando pelo conjunto de dados, fazendo predições e ajustes para chegar ao resultado esperado, é necessário um trabalho anterior para rotular as informações, mas o treinamento dos modelos costuma ser menos custoso.\n",
    "\n",
    "Modelos não supervisionados buscam encontrar padrões e estruturas dentro dos dados, ainda é necessário intervenção humana para validar o resultados. Os modelos não supervisionados são mais complexos e necessitam de grandes volumes de dados para chegar ao resultado esperado."
   ]
  },
  {
   "cell_type": "markdown",
   "id": "c4ee66bc-0875-4fb9-856a-3f3f54e1c098",
   "metadata": {},
   "source": [
    "**Q: Dê exemplos de modelos supervisionados e não supervisionados**"
   ]
  },
  {
   "cell_type": "markdown",
   "id": "2efdd1bc-4f27-4da9-b6c0-2bbd116125bb",
   "metadata": {},
   "source": [
    "**Q: Quais modelos de classificação você conhece?**"
   ]
  },
  {
   "cell_type": "markdown",
   "id": "4ebef4f1-d8cf-4c10-bcbd-a3c472dfb984",
   "metadata": {},
   "source": [
    "**Q: Como funciona uma árvore de decisão?**"
   ]
  },
  {
   "cell_type": "markdown",
   "id": "666a9a23-cc43-41ad-a542-32f04fe181ef",
   "metadata": {},
   "source": [
    "**Q: O que são _ensembles_? Dê exemplos de alguns**"
   ]
  },
  {
   "cell_type": "markdown",
   "id": "c51a06c0-173b-4b2d-b521-55e124d84878",
   "metadata": {},
   "source": [
    "**Q: Quais as principais métricas para avaliar um modelos de classificação?**"
   ]
  },
  {
   "cell_type": "markdown",
   "id": "7a04b102-15cc-4113-9e54-3599afcce131",
   "metadata": {},
   "source": [
    "**Q: Qual a diferença entre _recall_ e _precision_? Quando cada um é utilizado?**"
   ]
  },
  {
   "cell_type": "markdown",
   "id": "a899c51d-7b9c-4a78-a574-c23b050e688a",
   "metadata": {},
   "source": [
    "**Q: Quais as principais métricas para avaliar um modelo de regressão?**"
   ]
  },
  {
   "cell_type": "markdown",
   "id": "b89c2b7c-af0d-42c0-97ec-4e6fa43f2945",
   "metadata": {},
   "source": [
    "**Q: O que é um MSE?**"
   ]
  },
  {
   "cell_type": "markdown",
   "id": "e7156b68-5e55-4bbd-bfe8-1ffdeae3489b",
   "metadata": {},
   "source": [
    "**Q: Dê exemplos de modelos de _clustering_?**"
   ]
  },
  {
   "cell_type": "markdown",
   "id": "5db6c80b-bc52-4d44-bdc3-db3e7a65c8a6",
   "metadata": {},
   "source": [
    "**Q: Como funciona um K-means?**"
   ]
  },
  {
   "cell_type": "markdown",
   "id": "d0d02714-ff96-4847-9176-d178b37ea05b",
   "metadata": {},
   "source": [
    "**Q: Como vocês identifica se uma clusterização está boa ou não?**"
   ]
  },
  {
   "cell_type": "markdown",
   "id": "81f290f8-ac71-4852-a6cc-6769ffe04a86",
   "metadata": {},
   "source": [
    "**Q: O que é _overfitting_?**"
   ]
  },
  {
   "cell_type": "markdown",
   "id": "7f11e765-2e29-4546-84f6-bdbc95e6b141",
   "metadata": {},
   "source": [
    "**Q: Quais os métodos para evitar _overfitting_?**"
   ]
  },
  {
   "cell_type": "markdown",
   "id": "2d6a63e6-dd57-48f6-be18-e9251bbe54f3",
   "metadata": {},
   "source": [
    "**Q: O que é regularização?**"
   ]
  },
  {
   "cell_type": "markdown",
   "id": "8ae6325f-3778-4bd8-94f1-5a76364ebb4f",
   "metadata": {},
   "source": [
    "**Q: Qual a diferença entre L1 e L2?**"
   ]
  },
  {
   "cell_type": "markdown",
   "id": "fef4c3d0-9b7f-48a8-ac13-d2cbb1a83ca1",
   "metadata": {},
   "source": [
    "**Q: Como lidar com classes muito desbalanceadas?**"
   ]
  },
  {
   "cell_type": "code",
   "execution_count": null,
   "id": "4ac8a5ad-aa5d-43b8-afc6-97e042f9bafd",
   "metadata": {},
   "outputs": [],
   "source": []
  },
  {
   "cell_type": "code",
   "execution_count": null,
   "id": "9b476f96-67e3-46af-b897-302c9eb400a3",
   "metadata": {},
   "outputs": [],
   "source": []
  },
  {
   "cell_type": "code",
   "execution_count": null,
   "id": "25c655e3-5ef2-47df-aa79-6889bdd5eb67",
   "metadata": {},
   "outputs": [],
   "source": []
  }
 ],
 "metadata": {
  "kernelspec": {
   "display_name": "Python 3 (ipykernel)",
   "language": "python",
   "name": "python3"
  },
  "language_info": {
   "codemirror_mode": {
    "name": "ipython",
    "version": 3
   },
   "file_extension": ".py",
   "mimetype": "text/x-python",
   "name": "python",
   "nbconvert_exporter": "python",
   "pygments_lexer": "ipython3",
   "version": "3.13.1"
  }
 },
 "nbformat": 4,
 "nbformat_minor": 5
}
